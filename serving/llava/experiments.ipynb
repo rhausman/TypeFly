{
 "cells": [
  {
   "cell_type": "code",
   "execution_count": null,
   "metadata": {},
   "outputs": [],
   "source": [
    "import sys, os, gc\n",
    "from concurrent import futures\n",
    "from PIL import Image\n",
    "from io import BytesIO\n",
    "import json\n",
    "import time\n",
    "import grpc\n",
    "import torch"
   ]
  },
  {
   "cell_type": "markdown",
   "metadata": {},
   "source": [
    "## Download models"
   ]
  },
  {
   "cell_type": "code",
   "execution_count": null,
   "metadata": {},
   "outputs": [],
   "source": [
    "import os\n",
    "from huggingface_hub import snapshot_download\n",
    "\n",
    "\n",
    "model = os.getenv('MODEL', 'liuhaotian/llava-v1.6-mistral-7b')\n",
    "clip_model = 'openai/clip-vit-large-patch14-336'\n",
    "\n",
    "print(f'Downloading LLaVA model: {model}')\n",
    "snapshot_download(model)\n",
    "\n",
    "print(f'Downloading CLIP model: {model}')\n",
    "snapshot_download(clip_model);"
   ]
  },
  {
   "cell_type": "code",
   "execution_count": null,
   "metadata": {},
   "outputs": [],
   "source": [
    "from llava.serve.model_worker import main"
   ]
  },
  {
   "cell_type": "code",
   "execution_count": null,
   "metadata": {},
   "outputs": [],
   "source": [
    "print(\"yo\")"
   ]
  },
  {
   "cell_type": "code",
   "execution_count": null,
   "metadata": {},
   "outputs": [],
   "source": []
  }
 ],
 "metadata": {
  "kernelspec": {
   "display_name": ".venv",
   "language": "python",
   "name": "python3"
  },
  "language_info": {
   "codemirror_mode": {
    "name": "ipython",
    "version": 3
   },
   "file_extension": ".py",
   "mimetype": "text/x-python",
   "name": "python",
   "nbconvert_exporter": "python",
   "pygments_lexer": "ipython3",
   "version": "3.10.12"
  }
 },
 "nbformat": 4,
 "nbformat_minor": 2
}
